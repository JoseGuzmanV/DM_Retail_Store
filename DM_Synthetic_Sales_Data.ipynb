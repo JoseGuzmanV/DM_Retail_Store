{
  "nbformat": 4,
  "nbformat_minor": 0,
  "metadata": {
    "colab": {
      "provenance": []
    },
    "kernelspec": {
      "name": "python3",
      "display_name": "Python 3"
    },
    "language_info": {
      "name": "python"
    }
  },
  "cells": [
    {
      "cell_type": "code",
      "source": [
        "pip install faker"
      ],
      "metadata": {
        "colab": {
          "base_uri": "https://localhost:8080/"
        },
        "id": "OIyA8RpyBr86",
        "outputId": "76254b5f-f073-4407-d96f-4390f02553b2"
      },
      "execution_count": 1,
      "outputs": [
        {
          "output_type": "stream",
          "name": "stdout",
          "text": [
            "Requirement already satisfied: faker in /usr/local/lib/python3.10/dist-packages (24.3.0)\n",
            "Requirement already satisfied: python-dateutil>=2.4 in /usr/local/lib/python3.10/dist-packages (from faker) (2.8.2)\n",
            "Requirement already satisfied: six>=1.5 in /usr/local/lib/python3.10/dist-packages (from python-dateutil>=2.4->faker) (1.16.0)\n"
          ]
        }
      ]
    },
    {
      "cell_type": "code",
      "source": [
        "import sqlite3\n",
        "from faker import Faker\n",
        "import random\n",
        "from datetime import datetime\n",
        "\n",
        "# Crear una instancia de Faker\n",
        "fake = Faker()\n",
        "\n",
        "# Conectar a la base de datos SQLite (se creará automáticamente)\n",
        "conn = sqlite3.connect('tienda_minorista.db')\n",
        "cursor = conn.cursor()\n",
        "\n",
        "# Crear tabla de Ventas sin la columna Competitor_Price\n",
        "cursor.execute('''CREATE TABLE IF NOT EXISTS Ventas (\n",
        "                    Customer_Id INTEGER,\n",
        "                    DateTime TEXT,\n",
        "                    Customer_Name TEXT,\n",
        "                    Customer_Category TEXT,\n",
        "                    Marital_Status TEXT,\n",
        "                    Age INTEGER,\n",
        "                    Gender TEXT,\n",
        "                    Products TEXT,\n",
        "                    Total_Items INTEGER,\n",
        "                    Total_Price REAL,\n",
        "                    Payment_Method TEXT,\n",
        "                    State TEXT,\n",
        "                    Season TEXT,\n",
        "                    PCL TEXT)''')\n",
        "\n",
        "# Lista de categorías de clientes y rangos de edad\n",
        "customer_categories = ['Student', 'Professional', 'Homemaker', 'Teenager', 'Young', 'Adult', 'Elderly']\n",
        "age_ranges = {'Student': (14, 17), 'Professional': (18, 29), 'Homemaker': (30, 64), 'Teenager': (14, 17), 'Young': (18, 29), 'Adult': (30, 64), 'Elderly': (65, 100)}\n",
        "\n",
        "# Probabilidades para las categorías de clientes\n",
        "category_probabilities = [0.1, 0.2, 0.1, 0.1, 0.15, 0.2, 0.15]\n",
        "\n",
        "# Probabilidades para el estado civil\n",
        "marital_status_probabilities = [0.3, 0.3, 0.2, 0.2]\n",
        "\n",
        "# Probabilidades para los métodos de pago\n",
        "payment_method_probabilities = [0.2, 0.2, 0.1, 0.5]\n",
        "\n",
        "# Lista de géneros\n",
        "genders = ['Male', 'Female', 'Other']\n",
        "\n",
        "# Lista de productos de comida en inglés\n",
        "food_products = ['Rice', 'Beans', 'Chicken', 'Fish', 'Salad', 'Soup', 'Pasta', 'Burger', 'Pizza', 'Tacos',\n",
        "                 'Steak', 'Sushi', 'Sandwich', 'Fries', 'Curry', 'Burrito', 'Lasagna', 'Hotdog', 'Ramen', 'Donut',\n",
        "                 'Eggs', 'Milk', 'Bread', 'Cheese', 'Yogurt', 'Apple', 'Banana', 'Orange', 'Broccoli', 'Carrot',\n",
        "                 'Tomato', 'Cucumber', 'Lettuce', 'Potato', 'Onion', 'Garlic', 'Sausage', 'Ham', 'Bacon', 'Salami']\n",
        "\n",
        "# Precios de los productos\n",
        "food_prices = {'Rice': 1.99, 'Beans': 2.5, 'Chicken': 5.99, 'Fish': 7.99, 'Salad': 4.5, 'Soup': 3.99, 'Pasta': 3.25,\n",
        "               'Burger': 6.5, 'Pizza': 8.99, 'Tacos': 5.25, 'Steak': 12.99, 'Sushi': 9.99, 'Sandwich': 4.99,\n",
        "               'Fries': 2.99, 'Curry': 6.75, 'Burrito': 7.25, 'Lasagna': 8.5, 'Hotdog': 3.5, 'Ramen': 4.25, 'Donut': 1.25,\n",
        "               'Eggs': 2.99, 'Milk': 3.49, 'Bread': 2.25, 'Cheese': 4.99, 'Yogurt': 2.75, 'Apple': 0.75, 'Banana': 0.5,\n",
        "               'Orange': 0.99, 'Broccoli': 1.99, 'Carrot': 0.75, 'Tomato': 1.25, 'Cucumber': 1.49, 'Lettuce': 1.75,\n",
        "               'Potato': 1.25, 'Onion': 1.0, 'Garlic': 0.5, 'Sausage': 3.99, 'Ham': 4.5, 'Bacon': 5.99, 'Salami': 4.25}\n",
        "\n",
        "# Lista de estados de USA\n",
        "us_states = [\n",
        "    'Alabama', 'Alaska', 'Arizona', 'Arkansas', 'California', 'Colorado', 'Connecticut', 'Delaware', 'Florida',\n",
        "    'Georgia', 'Hawaii', 'Idaho', 'Illinois', 'Indiana', 'Iowa', 'Kansas', 'Kentucky', 'Louisiana', 'Maine',\n",
        "    'Maryland', 'Massachusetts', 'Michigan', 'Minnesota', 'Mississippi', 'Missouri', 'Montana', 'Nebraska', 'Nevada',\n",
        "    'New Hampshire', 'New Jersey', 'New Mexico', 'New York', 'North Carolina', 'North Dakota',\n",
        "    'Ohio', 'Oklahoma', 'Oregon', 'Pennsylvania', 'Rhode Island', 'South Carolina', 'South Dakota', 'Tennessee', 'Texas', 'Utah', 'Vermont',\n",
        "    'Virginia', 'Washington', 'West Virginia', 'Wisconsin', 'Wyoming'\n",
        "    ]\n",
        "\n",
        "# Pesos para cada estado (proporciones aproximadas)\n",
        "state_weights = [10, 20, 15, 10, 50, 20, 10, 5, 30, 25, 5, 25, 15, 10, 10, 10, 15, 5, 10, 10, 30, 10, 15, 15, 10, 5, 10, 10, 15, 20, 30, 100, 10, 5, 20, 10, 30, 10, 10, 5, 10, 10, 20, 50, 15, 5, 25, 10, 5, 5]\n",
        "\n",
        "# Probabilidades para la asignación de estados a Customer_Id\n",
        "state_assignment_probabilities = [0.85, 0.1, 0.05]\n",
        "\n",
        "# Probabilidades para PCL\n",
        "pcl_probabilities = [0.1, 0.9]\n",
        "\n",
        "# Generar los registros\n",
        "customer_id_states = {}  # Diccionario para rastrear los estados asignados a cada Customer_Id\n",
        "\n",
        "# Diccionarios para rastrear los valores de Gender, Age, Marital_Status, Customer_Category y Customer_Name\n",
        "customer_info = {}\n",
        "\n",
        "for _ in range(200000):\n",
        "    Customer_Id = random.randint(1000, 9999)\n",
        "    DateTime = fake.date_time_between(start_date='-1y', end_date='now')\n",
        "\n",
        "    # Obtener la temporada según la fecha\n",
        "    if 3 <= DateTime.month <= 5:\n",
        "        Season = 'Spring'\n",
        "    elif 6 <= DateTime.month <= 8:\n",
        "        Season = 'Summer'\n",
        "    elif 9 <= DateTime.month <= 11:\n",
        "        Season = 'Autumn'\n",
        "    else:\n",
        "        Season = 'Winter'\n",
        "\n",
        "    DateTime = DateTime.strftime('%Y-%m-%d %H:%M:%S')\n",
        "\n",
        "    # Generar o recuperar información del cliente\n",
        "    if Customer_Id not in customer_info:\n",
        "        Customer_Name = fake.first_name() + ' ' + fake.last_name()\n",
        "        # Seleccionar aleatoriamente una categoría de cliente\n",
        "        customer_category = random.choices(customer_categories, weights=category_probabilities)[0]\n",
        "\n",
        "        # Generar estado civil para las categorías de cliente\n",
        "        if customer_category in ['Student', 'Teenager']:\n",
        "            Marital_Status = 'Single'\n",
        "        elif customer_category == 'Young':\n",
        "            Marital_Status = random.choices(['Single', 'Married'], weights=[0.5, 0.5])[0]\n",
        "        else:\n",
        "            Marital_Status = random.choices(['Single', 'Married', 'Divorced', 'Widowed'], weights=marital_status_probabilities)[0]\n",
        "\n",
        "        # Generar una edad aleatoria dentro del rango correspondiente a la categoría de cliente\n",
        "        age_range = age_ranges[customer_category]\n",
        "        Age = random.randint(age_range[0], age_range[1])\n",
        "\n",
        "        # Elegir el género aleatoriamente, con probabilidades ajustadas\n",
        "        gender_probabilities = [0.35, 0.55, 0.1]  # Male, Female, Other\n",
        "        Gender = random.choices(genders, weights=gender_probabilities)[0]\n",
        "\n",
        "        # Generar valor para la columna PCL (Programa de Fidelización de Cliente)\n",
        "        PCL = random.choices(['True', 'False'], weights=pcl_probabilities)[0]\n",
        "\n",
        "        # Guardar la información del cliente en el diccionario customer_info\n",
        "        customer_info[Customer_Id] = {\n",
        "            'Customer_Name': Customer_Name,\n",
        "            'Customer_Category': customer_category,\n",
        "            'Marital_Status': Marital_Status,\n",
        "            'Age': Age,\n",
        "            'Gender': Gender,\n",
        "            'PCL': PCL\n",
        "        }\n",
        "    else:\n",
        "        # Recuperar la información del cliente del diccionario\n",
        "        Customer_Name = customer_info[Customer_Id]['Customer_Name']\n",
        "        customer_category = customer_info[Customer_Id]['Customer_Category']\n",
        "        Marital_Status = customer_info[Customer_Id]['Marital_Status']\n",
        "        Age = customer_info[Customer_Id]['Age']\n",
        "        Gender = customer_info[Customer_Id]['Gender']\n",
        "        PCL =  customer_info[Customer_Id]['PCL']\n",
        "\n",
        "    # Generar una lista de productos de comida aleatorios en inglés con\n",
        "    products = [random.choice(food_products) for _ in range(random.randint(1, 5))] # Generar entre 1 y 5 productos aleatorios\n",
        "    total_items = len(products)  # Contar la cantidad de productos\n",
        "    Total_Price = sum(food_prices[product] for product in products)  # Calcular el precio total de los productos\n",
        "\n",
        "    # Seleccionar método de pago con probabilidades ajustadas\n",
        "    Payment_Method = random.choices(['Credit Card', 'Debit Card', 'Cash', 'Mobile Payment'], weights=payment_method_probabilities)[0]\n",
        "\n",
        "    # Asignar estado(es) al Customer_Id\n",
        "    if Customer_Id not in customer_id_states:\n",
        "        # Asignar un solo estado en un 85% de los casos\n",
        "        # Dos estados diferentes en un 10% de los casos\n",
        "        # Tres estados diferentes en un 5% de los casos\n",
        "        num_states = random.choices([1, 2, 3], weights=state_assignment_probabilities)[0]\n",
        "        assigned_states = random.choices(us_states, weights=state_weights, k=num_states)  # Se usa choices en lugar de sample\n",
        "        customer_id_states[Customer_Id] = assigned_states\n",
        "    else:\n",
        "        assigned_states = customer_id_states[Customer_Id]\n",
        "\n",
        "    # Tomar un estado aleatorio de los asignados al Customer_Id\n",
        "    State = random.choice(assigned_states)\n",
        "\n",
        "    cursor.execute('''INSERT INTO Ventas (Customer_Id, DateTime, Customer_Name, Customer_Category, Marital_Status, Age, Gender, Products, Total_Items, Total_Price, Payment_Method, State, Season, PCL)\n",
        "                      VALUES (?, ?, ?, ?, ?, ?, ?, ?, ?, ?, ?, ?, ?, ?)''',\n",
        "                  (Customer_Id, DateTime, Customer_Name, customer_category, Marital_Status, Age, Gender, ', '.join(products), total_items, Total_Price, Payment_Method, State, Season, PCL))\n",
        "# Guardar cambios y cerrar conexión\n",
        "conn.commit()\n",
        "conn.close()\n",
        "\n",
        "print(\"Base de datos creada exitosamente con 200,000 registros en la tabla de Ventas.\")\n"
      ],
      "metadata": {
        "colab": {
          "base_uri": "https://localhost:8080/"
        },
        "id": "_sXFu12DNIa6",
        "outputId": "eb67e00b-2ce8-4b0d-ff40-c30253d2308b"
      },
      "execution_count": 2,
      "outputs": [
        {
          "output_type": "stream",
          "name": "stdout",
          "text": [
            "Base de datos creada exitosamente con 200,000 registros en la tabla de Ventas.\n"
          ]
        }
      ]
    },
    {
      "cell_type": "code",
      "source": [
        "import sqlite3\n",
        "import pandas as pd\n",
        "\n",
        "# Conectar a la base de datos SQLite\n",
        "conn = sqlite3.connect('tienda_minorista.db')\n",
        "\n",
        "# Consultar la tabla de Ventas y cargar los datos en un DataFrame de pandas\n",
        "df = pd.read_sql_query(\"SELECT * FROM Ventas\", conn)\n",
        "\n",
        "# Guardar el DataFrame en un archivo CSV\n",
        "df.to_csv('DM_Sales.csv', index=False)\n",
        "\n",
        "# Cerrar la conexión a la base de datos\n",
        "conn.close()\n",
        "\n",
        "print(\"Archivo CSV generado exitosamente.\")"
      ],
      "metadata": {
        "colab": {
          "base_uri": "https://localhost:8080/"
        },
        "id": "r2wWVyiQB-MA",
        "outputId": "cc99f035-ffb2-4ca2-ed16-aebd905c5150"
      },
      "execution_count": 3,
      "outputs": [
        {
          "output_type": "stream",
          "name": "stdout",
          "text": [
            "Archivo CSV generado exitosamente.\n"
          ]
        }
      ]
    }
  ]
}