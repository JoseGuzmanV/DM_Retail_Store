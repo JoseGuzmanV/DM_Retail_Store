{
  "nbformat": 4,
  "nbformat_minor": 0,
  "metadata": {
    "colab": {
      "provenance": []
    },
    "kernelspec": {
      "name": "python3",
      "display_name": "Python 3"
    },
    "language_info": {
      "name": "python"
    }
  },
  "cells": [
    {
      "cell_type": "code",
      "source": [
        "pip install faker"
      ],
      "metadata": {
        "colab": {
          "base_uri": "https://localhost:8080/"
        },
        "id": "OIyA8RpyBr86",
        "outputId": "dc25dc84-feff-46c8-a1a3-7476138d2334"
      },
      "execution_count": 1,
      "outputs": [
        {
          "output_type": "stream",
          "name": "stdout",
          "text": [
            "Requirement already satisfied: faker in /usr/local/lib/python3.10/dist-packages (24.3.0)\n",
            "Requirement already satisfied: python-dateutil>=2.4 in /usr/local/lib/python3.10/dist-packages (from faker) (2.8.2)\n",
            "Requirement already satisfied: six>=1.5 in /usr/local/lib/python3.10/dist-packages (from python-dateutil>=2.4->faker) (1.16.0)\n"
          ]
        }
      ]
    },
    {
      "cell_type": "code",
      "source": [
        "import sqlite3\n",
        "from faker import Faker\n",
        "import random\n",
        "from datetime import datetime\n",
        "\n",
        "# Crear una instancia de Faker\n",
        "fake = Faker()\n",
        "\n",
        "# Conectar a la base de datos SQLite (se creará automáticamente)\n",
        "conn = sqlite3.connect('tienda_minorista.db')\n",
        "cursor = conn.cursor()\n",
        "\n",
        "# Crear tabla de Ventas sin la columna Competitor_Price\n",
        "cursor.execute('''CREATE TABLE IF NOT EXISTS Ventas (\n",
        "                    Customer_Id INTEGER,\n",
        "                    DateTime TEXT,\n",
        "                    Customer_Name TEXT,\n",
        "                    Customer_Category TEXT,\n",
        "                    Marital_Status TEXT,\n",
        "                    Age INTEGER,\n",
        "                    Gender TEXT,\n",
        "                    Products TEXT,\n",
        "                    Total_Items INTEGER,\n",
        "                    Total_Price REAL,\n",
        "                    Payment_Method TEXT,\n",
        "                    State TEXT,\n",
        "                    Season TEXT,\n",
        "                    PCL TEXT)''')\n",
        "\n",
        "# Lista de categorías de clientes y rangos de edad\n",
        "customer_categories = ['Student', 'Professional', 'Homemaker', 'Teenager', 'Young', 'Adult', 'Elderly']\n",
        "age_ranges = {'Student': (14, 17), 'Professional': (18, 29), 'Homemaker': (30, 64), 'Teenager': (14, 17), 'Young': (18, 29), 'Adult': (30, 64), 'Elderly': (65, 100)}\n",
        "\n",
        "# Lista de géneros\n",
        "genders = ['Male', 'Female', 'Other']\n",
        "\n",
        "# Lista de productos de comida en inglés\n",
        "food_products = ['Rice', 'Beans', 'Chicken', 'Fish', 'Salad', 'Soup', 'Pasta', 'Burger', 'Pizza', 'Tacos',\n",
        "                 'Steak', 'Sushi', 'Sandwich', 'Fries', 'Curry', 'Burrito', 'Lasagna', 'Hotdog', 'Ramen', 'Donut',\n",
        "                 'Eggs', 'Milk', 'Bread', 'Cheese', 'Yogurt', 'Apple', 'Banana', 'Orange', 'Broccoli', 'Carrot',\n",
        "                 'Tomato', 'Cucumber', 'Lettuce', 'Potato', 'Onion', 'Garlic', 'Sausage', 'Ham', 'Bacon', 'Salami']\n",
        "\n",
        "# Lista de estados de USA\n",
        "us_states = [\n",
        "    'Alabama', 'Alaska', 'Arizona', 'Arkansas', 'California', 'Colorado', 'Connecticut', 'Delaware', 'Florida',\n",
        "    'Georgia', 'Hawaii', 'Idaho', 'Illinois', 'Indiana', 'Iowa', 'Kansas', 'Kentucky', 'Louisiana', 'Maine',\n",
        "    'Maryland', 'Massachusetts', 'Michigan', 'Minnesota', 'Mississippi', 'Missouri', 'Montana', 'Nebraska', 'Nevada',\n",
        "    'New Hampshire', 'New Jersey', 'New Mexico', 'New York', 'North Carolina', 'North Dakota', 'Ohio', 'Oklahoma',\n",
        "    'Oregon', 'Pennsylvania', 'Rhode Island', 'South Carolina', 'South Dakota', 'Tennessee', 'Texas', 'Utah', 'Vermont',\n",
        "    'Virginia', 'Washington', 'West Virginia', 'Wisconsin', 'Wyoming'\n",
        "]\n",
        "\n",
        "# Pesos para cada estado (proporciones aproximadas)\n",
        "state_weights = [5, 1, 7, 4, 50, 4, 3, 1, 23, 10, 1, 10, 5, 3, 2, 4, 4, 1, 2, 3, 7, 3, 4, 3, 3, 1, 1, 2, 2, 3, 4, 5, 10, 4, 2, 5, 1, 6, 3, 3, 1, 2, 2, 7, 40, 3, 1, 9, 2, 1]\n",
        "\n",
        "# Generar 200,000 registros de datos aleatorios para la tabla de Ventas\n",
        "for _ in range(200000):\n",
        "    Customer_Id = random.randint(1000, 9999)\n",
        "    DateTime = fake.date_time_between(start_date='-1y', end_date='now').strftime('%Y-%m-%d %H:%M:%S')\n",
        "    Customer_Name = fake.first_name() + ' ' + fake.last_name()\n",
        "\n",
        "    # Seleccionar aleatoriamente una categoría de cliente\n",
        "    customer_category = random.choice(customer_categories)\n",
        "\n",
        "    # Generar estado civil para las categorías de cliente\n",
        "    if customer_category in ['Student', 'Teenager']:\n",
        "        Marital_Status = 'Single'\n",
        "    elif customer_category == 'Young':\n",
        "        Marital_Status = random.choices(['Single', 'Married'], weights=[0.5, 0.5])[0]\n",
        "    else:\n",
        "        Marital_Status = fake.random_element(elements=('Single', 'Married', 'Divorced', 'Widowed'))\n",
        "\n",
        "    # Generar una edad aleatoria dentro del rango correspondiente a la categoría de cliente\n",
        "    age_range = age_ranges[customer_category]\n",
        "    Age = random.randint(age_range[0], age_range[1])\n",
        "\n",
        "    # Generar una lista de productos de comida aleatorios en inglés con sus cantidades\n",
        "    products = [random.choice(food_products) for _ in range(random.randint(1, 5))]  # Generar entre 1 y 5 productos aleatorios\n",
        "    total_items = sum([random.randint(1, 10) for _ in products])  # Sumar las cantidades de los productos\n",
        "\n",
        "    Total_Price = round(random.uniform(10.0, 500.0), 2)\n",
        "\n",
        "    # Modificar la lista de métodos de pago\n",
        "    payment_methods = ['Credit Card', 'Debit Card', 'Cash', 'Mobile Payment']\n",
        "    Payment_Method = random.choice(payment_methods)\n",
        "\n",
        "    # Seleccionar un estado aleatorio con pesos específicos\n",
        "    State = random.choices(us_states, weights=state_weights)[0]\n",
        "    #State = random.choices(us_states, weights=state_weights)\n",
        "\n",
        "\n",
        "    Season = random.choice(['Spring', 'Summer', 'Autumn', 'Winter'])\n",
        "\n",
        "    # Generar valor para la columna PCL (Programa de Fidelización de Cliente)\n",
        "    PCL = random.choice(['True', 'False'])\n",
        "\n",
        "    # Elegir el género aleatoriamente, con probabilidades ajustadas\n",
        "    gender_probabilities = [0.35, 0.55, 0.1]  # Male, Female, Other\n",
        "    Gender = random.choices(genders, weights=gender_probabilities)[0]\n",
        "\n",
        "    cursor.execute('''INSERT INTO Ventas (Customer_Id, DateTime, Customer_Name, Customer_Category, Marital_Status, Age, Gender, Products, Total_Items, Total_Price, Payment_Method, State, Season, PCL)\n",
        "                      VALUES (?, ?, ?, ?, ?, ?, ?, ?, ?, ?, ?, ?, ?, ?)''',\n",
        "                   (Customer_Id, DateTime, Customer_Name, customer_category, Marital_Status, Age, Gender, ', '.join(products), total_items, Total_Price, Payment_Method, State, Season, PCL))\n",
        "\n",
        "# Guardar cambios y cerrar conexión\n",
        "conn.commit()\n",
        "conn.close()\n",
        "\n",
        "print(\"Base de datos creada exitosamente con 200,000 registros en la tabla de Ventas.\")\n",
        "\n"
      ],
      "metadata": {
        "colab": {
          "base_uri": "https://localhost:8080/"
        },
        "id": "hoJp9omBOdDl",
        "outputId": "20a42f16-1160-4f1a-dbf9-0df09a14c6a4"
      },
      "execution_count": 2,
      "outputs": [
        {
          "output_type": "stream",
          "name": "stdout",
          "text": [
            "Base de datos creada exitosamente con 200,000 registros en la tabla de Ventas.\n"
          ]
        }
      ]
    },
    {
      "cell_type": "code",
      "source": [
        "import sqlite3\n",
        "import pandas as pd\n",
        "\n",
        "# Conectar a la base de datos SQLite\n",
        "conn = sqlite3.connect('tienda_minorista.db')\n",
        "\n",
        "# Consultar la tabla de Ventas y cargar los datos en un DataFrame de pandas\n",
        "df = pd.read_sql_query(\"SELECT * FROM Ventas\", conn)\n",
        "\n",
        "# Guardar el DataFrame en un archivo CSV\n",
        "df.to_csv('DM_Sales.csv', index=False)\n",
        "\n",
        "# Cerrar la conexión a la base de datos\n",
        "conn.close()\n",
        "\n",
        "print(\"Archivo CSV generado exitosamente.\")"
      ],
      "metadata": {
        "colab": {
          "base_uri": "https://localhost:8080/"
        },
        "id": "r2wWVyiQB-MA",
        "outputId": "dc4f059e-dfb7-4535-f710-424441123bc0"
      },
      "execution_count": 3,
      "outputs": [
        {
          "output_type": "stream",
          "name": "stdout",
          "text": [
            "Archivo CSV generado exitosamente.\n"
          ]
        }
      ]
    }
  ]
}